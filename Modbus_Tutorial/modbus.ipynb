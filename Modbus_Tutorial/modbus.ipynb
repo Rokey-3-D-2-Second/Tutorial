{
 "cells": [
  {
   "cell_type": "code",
   "execution_count": 1,
   "id": "0f27f9e1",
   "metadata": {},
   "outputs": [],
   "source": [
    "import time\n",
    "from onrobot import RG\n",
    "GRIPPER_NAME = \"rg2\"\n",
    "TOOLCHARER_IP = \"192.168.1.1\"\n",
    "TOOLCHARER_PORT = \"502\"\n",
    "gripper = RG(GRIPPER_NAME, TOOLCHARER_IP, TOOLCHARER_PORT)"
   ]
  },
  {
   "cell_type": "code",
   "execution_count": 30,
   "id": "79da08a4",
   "metadata": {},
   "outputs": [
    {
     "name": "stdout",
     "output_type": "stream",
     "text": [
      "Start opening gripper.\n"
     ]
    }
   ],
   "source": [
    "# gripper open\n",
    "gripper.open_gripper()"
   ]
  },
  {
   "cell_type": "code",
   "execution_count": 28,
   "id": "ae87f559",
   "metadata": {},
   "outputs": [
    {
     "name": "stdout",
     "output_type": "stream",
     "text": [
      "Start closing gripper.\n"
     ]
    }
   ],
   "source": [
    "# gripper close\n",
    "gripper.close_gripper()"
   ]
  },
  {
   "cell_type": "code",
   "execution_count": null,
   "id": "7719fdc3",
   "metadata": {},
   "outputs": [
    {
     "name": "stdout",
     "output_type": "stream",
     "text": [
      "Start moving gripper.\n",
      "Start moving gripper.\n"
     ]
    }
   ],
   "source": [
    "# gripper move\n",
    "gripper.move_gripper(30)\n"
   ]
  },
  {
   "cell_type": "code",
   "execution_count": 29,
   "id": "c5a279a2",
   "metadata": {},
   "outputs": [
    {
     "name": "stdout",
     "output_type": "stream",
     "text": [
      "An internal- or external grip is detected.\n",
      "Safety switch 1 is pushed.\n",
      "Safety circuit 1 is activated so it will not move.\n",
      "Safety switch 2 is pushed.\n",
      "Safety circuit 2 is activated so it will not move.\n",
      "Any of the safety switch is pushed.\n"
     ]
    },
    {
     "data": {
      "text/plain": [
       "[0, 1, 1, 1, 1, 1, 1]"
      ]
     },
     "execution_count": 29,
     "metadata": {},
     "output_type": "execute_result"
    }
   ],
   "source": [
    "# status\n",
    "gripper.get_status()"
   ]
  },
  {
   "cell_type": "code",
   "execution_count": null,
   "id": "71b77bce",
   "metadata": {},
   "outputs": [
    {
     "name": "stdout",
     "output_type": "stream",
     "text": [
      "Start opening gripper.\n",
      "Start closing gripper.\n",
      "A motion is ongoing so new commands are not accepted.\n",
      "A motion is ongoing so new commands are not accepted.\n",
      "A motion is ongoing so new commands are not accepted.\n",
      "A motion is ongoing so new commands are not accepted.\n",
      "A motion is ongoing so new commands are not accepted.\n"
     ]
    }
   ],
   "source": [
    "# gripper open\n",
    "gripper.open_gripper()\n",
    "# gripper close\n",
    "gripper.close_gripper()\n",
    "# gripper status check and \n",
    "while gripper.get_status()[0]:\n",
    "    time.sleep(0.5)"
   ]
  }
 ],
 "metadata": {
  "kernelspec": {
   "display_name": "Python 3",
   "language": "python",
   "name": "python3"
  },
  "language_info": {
   "codemirror_mode": {
    "name": "ipython",
    "version": 3
   },
   "file_extension": ".py",
   "mimetype": "text/x-python",
   "name": "python",
   "nbconvert_exporter": "python",
   "pygments_lexer": "ipython3",
   "version": "3.10.12"
  }
 },
 "nbformat": 4,
 "nbformat_minor": 5
}
